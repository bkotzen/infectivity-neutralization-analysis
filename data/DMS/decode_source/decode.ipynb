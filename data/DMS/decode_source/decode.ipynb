{
 "cells": [
  {
   "cell_type": "code",
   "execution_count": 1,
   "id": "f3496c4a-faf1-4f69-bc85-49fb48bb267d",
   "metadata": {},
   "outputs": [
    {
     "name": "stdout",
     "output_type": "stream",
     "text": [
      "Intel MKL WARNING: Support of Intel(R) Streaming SIMD Extensions 4.2 (Intel(R) SSE4.2) enabled only processors has been deprecated. Intel oneAPI Math Kernel Library 2025.0 will require Intel(R) Advanced Vector Extensions (Intel(R) AVX) instructions.\n",
      "Intel MKL WARNING: Support of Intel(R) Streaming SIMD Extensions 4.2 (Intel(R) SSE4.2) enabled only processors has been deprecated. Intel oneAPI Math Kernel Library 2025.0 will require Intel(R) Advanced Vector Extensions (Intel(R) AVX) instructions.\n"
     ]
    }
   ],
   "source": [
    "import pandas as pd"
   ]
  },
  {
   "cell_type": "code",
   "execution_count": null,
   "id": "f917a6e5-b0ef-4e45-ab0e-43e84b3541bc",
   "metadata": {},
   "outputs": [],
   "source": [
    "# It appears that the studies aggregated by Noor and Sarah break down as follows:\n",
    "#             '2021_Greaney_Crowe_Abs': ANTIBODY,\n",
    "#             '2021_Starr_REGN': ANTIBODY,\n",
    "#             '2021_Greaney_HAARVI_sera': ANTIBODY,\n",
    "#             '2021_Dong_AZ': ANTIBODY,\n",
    "#             '2021_Starr_LY-CoV555': ANTIBODY,\n",
    "#             '2021_Greaney_Rockefeller': ANTIBODY,\n",
    "#             '2021_Starr_Vir': ANTIBODY,\n",
    "#             '2021_Tortorici_S2X259': ANTIBODY,\n",
    "#             '2021_Greaney_Moderna': ANTIBODY,\n",
    "#     '2021_Greaney_B1351':'Beta',\n",
    "#             '2021_Greaney_COV2-2955': ANTIBODY,\n",
    "#             '2021_Cao_Omicron': ANTIBODY,\n",
    "#     '2022_Greaney_WuG_Delta_Beta_sera_mAbs': Previous exposures, specified in supplement*,\n",
    "#     '2022_Cao_1640mAbs': Previous exposures, specified in supplement*,\n",
    "#             '2022_Starr_WuG_BA1_BA2_1mAb': ANTIBODY,\n",
    "#             '2022_Cao_3051mAbs':'BA.2': ANTIBODY,\n",
    "#             '2023_Dadonaite_delta_BA1_5mAb_2sera': ANTIBODY,\n",
    "#     '2023_Yisimayi_1816mAbs': Previous exposures, specified in supplement*,\n",
    "#     '2024_Dadonaite_XBB15_10sera':'XBB'\n",
    "#     '2024_Jian_2688mAbs': Previous exposures, specified in supplement*,\n",
    "    \n",
    "# * indicates that the mapping between supplement and dms_all file do not match, preventing linking previous exposure to DMS result\n",
    "    \n",
    "# This should leave six sets of experimental data that can be mapped to previous exposures"
   ]
  },
  {
   "cell_type": "code",
   "execution_count": 51,
   "id": "faa4f322-6048-4b18-b623-56a18da663d0",
   "metadata": {},
   "outputs": [],
   "source": [
    "dms_all = pd.read_csv('../agg_exp_dms_data_Jan22_2025.csv')"
   ]
  },
  {
   "cell_type": "code",
   "execution_count": 113,
   "id": "7bf2827e-e7ef-46e0-8264-4ca197b5c72f",
   "metadata": {},
   "outputs": [],
   "source": [
    "# 2024_Jian_2688mAbs\n",
    "# There are two supplements from this paper\n",
    "#  1.  Github https://github.com/yunlongcaolab/SARS-CoV-2-JN.1-mAbs/blob/main/data/_Table_S2.csv\n",
    "#  2.  Paper https://static-content.springer.com/esm/art%3A10.1038%2Fs41586-024-08315-x/MediaObjects/41586_2024_8315_MOESM5_ESM.xlsx\n",
    "#     a.    For some reason, everything that's in the paper is also in the github, but there'a plenty that's in the github that isn't in the paper\n",
    "s1 = pd.read_csv('2024_Jian_2688mAbs_supp_table_github.csv')\n",
    "s2 = pd.read_csv('2024_Jian_2688mAbs_supp_table_paper.csv')\n",
    "s1_abs = s1['antibody'].unique()\n",
    "s2_abs = s2['antibody'].unique()   \n",
    "dms_abs = dms_all[dms_all['study']=='2024_Jian_2688mAbs']['condition'].unique()\n",
    "set(s2_abs).intersection(set(dms_abs))\n",
    "set(s1_abs).intersection(set(dms_abs))\n",
    "\n",
    "# There are only approx 8 antibodies that are listed both in the supplement and also in the aggregated dms table"
   ]
  },
  {
   "cell_type": "code",
   "execution_count": 78,
   "id": "d1160b71-4d7c-4d92-9ca2-8c587ee3d874",
   "metadata": {},
   "outputs": [
    {
     "name": "stdout",
     "output_type": "stream",
     "text": [
      "False\n"
     ]
    },
    {
     "data": {
      "text/plain": [
       "False"
      ]
     },
     "execution_count": 78,
     "metadata": {},
     "output_type": "execute_result"
    }
   ],
   "source": [
    "# 2024_Jian_2688mAbs\n",
    "# Data in DMS file from Noor and Sarah doesn't seem to match supplemental data?\n",
    "print('BD57-2568' in dms_all['condition'].unique())\n",
    "'BD57-2568' in dms_all[dms_all['study']=='2024_Jian_2688mAbs']['condition'].unique()"
   ]
  },
  {
   "cell_type": "code",
   "execution_count": 99,
   "id": "763e514c-3a74-4f8f-af0b-9375521ade7b",
   "metadata": {},
   "outputs": [
    {
     "name": "stdout",
     "output_type": "stream",
     "text": [
      "True\n"
     ]
    },
    {
     "data": {
      "text/plain": [
       "True"
      ]
     },
     "execution_count": 99,
     "metadata": {},
     "output_type": "execute_result"
    }
   ],
   "source": [
    "# 2024_Jian_2688mAbs\n",
    "# Data in DMS file from Noor and Sarah doesn't seem to match supplemental data?\n",
    "print('BD55-1041' in dms_all['condition'].unique())\n",
    "'BD55-1041' in dms_all[dms_all['study']=='2024_Jian_2688mAbs']['condition'].unique()"
   ]
  },
  {
   "cell_type": "code",
   "execution_count": 46,
   "id": "9214bbbb-ef40-40fd-8e35-f92e4b86db53",
   "metadata": {},
   "outputs": [
    {
     "name": "stdout",
     "output_type": "stream",
     "text": [
      "False\n"
     ]
    },
    {
     "data": {
      "text/plain": [
       "False"
      ]
     },
     "execution_count": 46,
     "metadata": {},
     "output_type": "execute_result"
    }
   ],
   "source": [
    "# 2023_Yisimayi_1816mAbs\n",
    "# Data in DMS file from Noor and Sarah doesn't seem to match supplemental data?\n",
    "print('BD57-0470' in dms_all['condition'].unique())\n",
    "'BD57-0470' in dms_all[dms_all['study']=='2023_Yisimayi_1816mAbs']['condition'].unique()"
   ]
  },
  {
   "cell_type": "code",
   "execution_count": 45,
   "id": "d00fa934-c03a-4e2c-99b0-bff10eacb5b0",
   "metadata": {},
   "outputs": [
    {
     "name": "stdout",
     "output_type": "stream",
     "text": [
      "True\n"
     ]
    },
    {
     "data": {
      "text/plain": [
       "True"
      ]
     },
     "execution_count": 45,
     "metadata": {},
     "output_type": "execute_result"
    }
   ],
   "source": [
    "# 2023_Dadonaite_delta_BA1_5mAb_2sera\n",
    "# Antibody serum\n",
    "print('CC67.105' in dms_all['condition'].unique())\n",
    "'CC67.105' in dms_all[dms_all['study']=='2023_Dadonaite_delta_BA1_5mAb_2sera']['condition'].unique()"
   ]
  },
  {
   "cell_type": "code",
   "execution_count": 90,
   "id": "d7b2fc46-862b-403c-8566-40918d6c7871",
   "metadata": {},
   "outputs": [],
   "source": [
    "# 2022_Starr_WuG_BA1_BA2_1mAb\n",
    "# Couldn't find supplement; seems to be all LY-CoV1404 antibody"
   ]
  },
  {
   "cell_type": "code",
   "execution_count": 85,
   "id": "42a4e38c-3710-4fed-8ee6-0ff55d804bff",
   "metadata": {},
   "outputs": [
    {
     "name": "stdout",
     "output_type": "stream",
     "text": [
      "True\n"
     ]
    },
    {
     "data": {
      "text/plain": [
       "True"
      ]
     },
     "execution_count": 85,
     "metadata": {},
     "output_type": "execute_result"
    }
   ],
   "source": [
    "# 2022_Cao_1640mAbs\n",
    "# Data in DMS file from Noor and Sarah doesn't seem to match supplemental data?\n",
    "print('BD30-196' in dms_all['condition'].unique())\n",
    "'BD30-196' in dms_all[dms_all['study']=='2022_Cao_1640mAbs']['condition'].unique()"
   ]
  },
  {
   "cell_type": "code",
   "execution_count": 57,
   "id": "b7f3608a-9591-407d-900e-af09f83beb01",
   "metadata": {},
   "outputs": [
    {
     "name": "stdout",
     "output_type": "stream",
     "text": [
      "True\n"
     ]
    },
    {
     "data": {
      "text/plain": [
       "True"
      ]
     },
     "execution_count": 57,
     "metadata": {},
     "output_type": "execute_result"
    }
   ],
   "source": [
    "# 2022_Greaney_WuG_Delta_Beta_sera_mAbs\n",
    "# Most recent variant can be extraced from \"Class\" column\n",
    "print('P02' in dms_all['condition'].unique())\n",
    "'P02' in dms_all[dms_all['study']=='2022_Greaney_WuG_Delta_Beta_sera_mAbs']['condition'].unique()"
   ]
  },
  {
   "cell_type": "code",
   "execution_count": 58,
   "id": "1e50d8f8-ffc2-466a-910e-d039bcc1ded6",
   "metadata": {},
   "outputs": [],
   "source": [
    "# 2021_Cao_Omicron\n",
    "# Insufficientr info provided in supplement"
   ]
  },
  {
   "cell_type": "code",
   "execution_count": null,
   "id": "59d9b1a5-7f6e-4a15-975c-05824ced5f46",
   "metadata": {},
   "outputs": [],
   "source": [
    "# 2021_Greaney_COV2-2955\n",
    "# Insufficient data"
   ]
  },
  {
   "cell_type": "code",
   "execution_count": null,
   "id": "deb79723-0840-400b-aefe-6ac75fd768a4",
   "metadata": {},
   "outputs": [],
   "source": [
    "# 2021_Greaney_B1351\n",
    "# All Beta"
   ]
  },
  {
   "cell_type": "code",
   "execution_count": 62,
   "id": "704a8da5-e282-4c89-9336-c46033144068",
   "metadata": {},
   "outputs": [
    {
     "data": {
      "text/plain": [
       "array(['M01 (day 119)', 'M02 (day 119)', 'M03 (day 119)', 'M04 (day 119)',\n",
       "       'M05 (day 119)', 'M06 (day 119)', 'M07 (day 119)', 'M08 (day 119)',\n",
       "       'M09 (day 119)', 'M10 (day 119)', 'M11 (day 119)', 'M12 (day 119)',\n",
       "       'M13 (day 119)', 'M14 (day 119)', 'M16 (day 119)', 'M17 (day 119)',\n",
       "       'M18 (day 119)', 'M19 (day 119)', 'M20 (day 119)', 'M21 (day 119)',\n",
       "       'M22 (day 119)', 'M23 (day 119)', 'M02 (day 36)', 'M05 (day 36)',\n",
       "       'M08 (day 36)', 'M10 (day 36)', 'M12 (day 36)'], dtype=object)"
      ]
     },
     "execution_count": 62,
     "metadata": {},
     "output_type": "execute_result"
    }
   ],
   "source": [
    "# 2021_Greaney_Moderna\n",
    "# DMS corresponds to serum from mRNA-1273 vaccine–elicited antibodies \n",
    "dms_all[dms_all['study']=='2021_Greaney_Moderna']['condition'].unique()"
   ]
  },
  {
   "cell_type": "code",
   "execution_count": 63,
   "id": "64d3b989-32e7-4cd7-b14a-8316b67d72d7",
   "metadata": {},
   "outputs": [
    {
     "data": {
      "text/html": [
       "<div>\n",
       "<style scoped>\n",
       "    .dataframe tbody tr th:only-of-type {\n",
       "        vertical-align: middle;\n",
       "    }\n",
       "\n",
       "    .dataframe tbody tr th {\n",
       "        vertical-align: top;\n",
       "    }\n",
       "\n",
       "    .dataframe thead th {\n",
       "        text-align: right;\n",
       "    }\n",
       "</style>\n",
       "<table border=\"1\" class=\"dataframe\">\n",
       "  <thead>\n",
       "    <tr style=\"text-align: right;\">\n",
       "      <th></th>\n",
       "      <th>condition</th>\n",
       "      <th>condition_type</th>\n",
       "      <th>site</th>\n",
       "      <th>wildtype</th>\n",
       "      <th>mutation</th>\n",
       "      <th>mut_escape</th>\n",
       "      <th>variant</th>\n",
       "      <th>study</th>\n",
       "      <th>lab</th>\n",
       "    </tr>\n",
       "  </thead>\n",
       "  <tbody>\n",
       "    <tr>\n",
       "      <th>1185881</th>\n",
       "      <td>S2X259</td>\n",
       "      <td>antibody</td>\n",
       "      <td>331</td>\n",
       "      <td>N</td>\n",
       "      <td>A</td>\n",
       "      <td>0.000923</td>\n",
       "      <td>WuG</td>\n",
       "      <td>2021_Tortorici_S2X259</td>\n",
       "      <td>Bloom_JD</td>\n",
       "    </tr>\n",
       "    <tr>\n",
       "      <th>1185882</th>\n",
       "      <td>S2X259</td>\n",
       "      <td>antibody</td>\n",
       "      <td>331</td>\n",
       "      <td>N</td>\n",
       "      <td>D</td>\n",
       "      <td>0.000000</td>\n",
       "      <td>WuG</td>\n",
       "      <td>2021_Tortorici_S2X259</td>\n",
       "      <td>Bloom_JD</td>\n",
       "    </tr>\n",
       "    <tr>\n",
       "      <th>1185883</th>\n",
       "      <td>S2X259</td>\n",
       "      <td>antibody</td>\n",
       "      <td>331</td>\n",
       "      <td>N</td>\n",
       "      <td>E</td>\n",
       "      <td>0.000608</td>\n",
       "      <td>WuG</td>\n",
       "      <td>2021_Tortorici_S2X259</td>\n",
       "      <td>Bloom_JD</td>\n",
       "    </tr>\n",
       "    <tr>\n",
       "      <th>1185884</th>\n",
       "      <td>S2X259</td>\n",
       "      <td>antibody</td>\n",
       "      <td>331</td>\n",
       "      <td>N</td>\n",
       "      <td>F</td>\n",
       "      <td>0.003219</td>\n",
       "      <td>WuG</td>\n",
       "      <td>2021_Tortorici_S2X259</td>\n",
       "      <td>Bloom_JD</td>\n",
       "    </tr>\n",
       "    <tr>\n",
       "      <th>1185885</th>\n",
       "      <td>S2X259</td>\n",
       "      <td>antibody</td>\n",
       "      <td>331</td>\n",
       "      <td>N</td>\n",
       "      <td>G</td>\n",
       "      <td>0.001120</td>\n",
       "      <td>WuG</td>\n",
       "      <td>2021_Tortorici_S2X259</td>\n",
       "      <td>Bloom_JD</td>\n",
       "    </tr>\n",
       "    <tr>\n",
       "      <th>...</th>\n",
       "      <td>...</td>\n",
       "      <td>...</td>\n",
       "      <td>...</td>\n",
       "      <td>...</td>\n",
       "      <td>...</td>\n",
       "      <td>...</td>\n",
       "      <td>...</td>\n",
       "      <td>...</td>\n",
       "      <td>...</td>\n",
       "    </tr>\n",
       "    <tr>\n",
       "      <th>1187827</th>\n",
       "      <td>S2X259</td>\n",
       "      <td>antibody</td>\n",
       "      <td>531</td>\n",
       "      <td>T</td>\n",
       "      <td>R</td>\n",
       "      <td>0.001567</td>\n",
       "      <td>WuG</td>\n",
       "      <td>2021_Tortorici_S2X259</td>\n",
       "      <td>Bloom_JD</td>\n",
       "    </tr>\n",
       "    <tr>\n",
       "      <th>1187828</th>\n",
       "      <td>S2X259</td>\n",
       "      <td>antibody</td>\n",
       "      <td>531</td>\n",
       "      <td>T</td>\n",
       "      <td>S</td>\n",
       "      <td>0.001589</td>\n",
       "      <td>WuG</td>\n",
       "      <td>2021_Tortorici_S2X259</td>\n",
       "      <td>Bloom_JD</td>\n",
       "    </tr>\n",
       "    <tr>\n",
       "      <th>1187829</th>\n",
       "      <td>S2X259</td>\n",
       "      <td>antibody</td>\n",
       "      <td>531</td>\n",
       "      <td>T</td>\n",
       "      <td>V</td>\n",
       "      <td>0.001339</td>\n",
       "      <td>WuG</td>\n",
       "      <td>2021_Tortorici_S2X259</td>\n",
       "      <td>Bloom_JD</td>\n",
       "    </tr>\n",
       "    <tr>\n",
       "      <th>1187830</th>\n",
       "      <td>S2X259</td>\n",
       "      <td>antibody</td>\n",
       "      <td>531</td>\n",
       "      <td>T</td>\n",
       "      <td>W</td>\n",
       "      <td>0.001347</td>\n",
       "      <td>WuG</td>\n",
       "      <td>2021_Tortorici_S2X259</td>\n",
       "      <td>Bloom_JD</td>\n",
       "    </tr>\n",
       "    <tr>\n",
       "      <th>1187831</th>\n",
       "      <td>S2X259</td>\n",
       "      <td>antibody</td>\n",
       "      <td>531</td>\n",
       "      <td>T</td>\n",
       "      <td>Y</td>\n",
       "      <td>0.000898</td>\n",
       "      <td>WuG</td>\n",
       "      <td>2021_Tortorici_S2X259</td>\n",
       "      <td>Bloom_JD</td>\n",
       "    </tr>\n",
       "  </tbody>\n",
       "</table>\n",
       "<p>1951 rows × 9 columns</p>\n",
       "</div>"
      ],
      "text/plain": [
       "        condition condition_type  site wildtype mutation  mut_escape variant  \\\n",
       "1185881    S2X259       antibody   331        N        A    0.000923     WuG   \n",
       "1185882    S2X259       antibody   331        N        D    0.000000     WuG   \n",
       "1185883    S2X259       antibody   331        N        E    0.000608     WuG   \n",
       "1185884    S2X259       antibody   331        N        F    0.003219     WuG   \n",
       "1185885    S2X259       antibody   331        N        G    0.001120     WuG   \n",
       "...           ...            ...   ...      ...      ...         ...     ...   \n",
       "1187827    S2X259       antibody   531        T        R    0.001567     WuG   \n",
       "1187828    S2X259       antibody   531        T        S    0.001589     WuG   \n",
       "1187829    S2X259       antibody   531        T        V    0.001339     WuG   \n",
       "1187830    S2X259       antibody   531        T        W    0.001347     WuG   \n",
       "1187831    S2X259       antibody   531        T        Y    0.000898     WuG   \n",
       "\n",
       "                         study       lab  \n",
       "1185881  2021_Tortorici_S2X259  Bloom_JD  \n",
       "1185882  2021_Tortorici_S2X259  Bloom_JD  \n",
       "1185883  2021_Tortorici_S2X259  Bloom_JD  \n",
       "1185884  2021_Tortorici_S2X259  Bloom_JD  \n",
       "1185885  2021_Tortorici_S2X259  Bloom_JD  \n",
       "...                        ...       ...  \n",
       "1187827  2021_Tortorici_S2X259  Bloom_JD  \n",
       "1187828  2021_Tortorici_S2X259  Bloom_JD  \n",
       "1187829  2021_Tortorici_S2X259  Bloom_JD  \n",
       "1187830  2021_Tortorici_S2X259  Bloom_JD  \n",
       "1187831  2021_Tortorici_S2X259  Bloom_JD  \n",
       "\n",
       "[1951 rows x 9 columns]"
      ]
     },
     "execution_count": 63,
     "metadata": {},
     "output_type": "execute_result"
    }
   ],
   "source": [
    "# 2021_Tortorici_S2X259\n",
    "# Antibody S2X259\n",
    "dms_all[dms_all['study']=='2021_Tortorici_S2X259']"
   ]
  },
  {
   "cell_type": "code",
   "execution_count": 65,
   "id": "1771a6a3-63bf-411f-aa9c-431ea2ea6b76",
   "metadata": {},
   "outputs": [
    {
     "data": {
      "text/html": [
       "<div>\n",
       "<style scoped>\n",
       "    .dataframe tbody tr th:only-of-type {\n",
       "        vertical-align: middle;\n",
       "    }\n",
       "\n",
       "    .dataframe tbody tr th {\n",
       "        vertical-align: top;\n",
       "    }\n",
       "\n",
       "    .dataframe thead th {\n",
       "        text-align: right;\n",
       "    }\n",
       "</style>\n",
       "<table border=\"1\" class=\"dataframe\">\n",
       "  <thead>\n",
       "    <tr style=\"text-align: right;\">\n",
       "      <th></th>\n",
       "      <th>condition</th>\n",
       "      <th>condition_type</th>\n",
       "      <th>site</th>\n",
       "      <th>wildtype</th>\n",
       "      <th>mutation</th>\n",
       "      <th>mut_escape</th>\n",
       "      <th>variant</th>\n",
       "      <th>study</th>\n",
       "      <th>lab</th>\n",
       "    </tr>\n",
       "  </thead>\n",
       "  <tbody>\n",
       "    <tr>\n",
       "      <th>1162481</th>\n",
       "      <td>S309</td>\n",
       "      <td>antibody</td>\n",
       "      <td>331</td>\n",
       "      <td>N</td>\n",
       "      <td>A</td>\n",
       "      <td>0.047100</td>\n",
       "      <td>WuG</td>\n",
       "      <td>2021_Starr_Vir</td>\n",
       "      <td>Bloom_JD</td>\n",
       "    </tr>\n",
       "    <tr>\n",
       "      <th>1162482</th>\n",
       "      <td>S309</td>\n",
       "      <td>antibody</td>\n",
       "      <td>331</td>\n",
       "      <td>N</td>\n",
       "      <td>D</td>\n",
       "      <td>0.088820</td>\n",
       "      <td>WuG</td>\n",
       "      <td>2021_Starr_Vir</td>\n",
       "      <td>Bloom_JD</td>\n",
       "    </tr>\n",
       "    <tr>\n",
       "      <th>1162483</th>\n",
       "      <td>S309</td>\n",
       "      <td>antibody</td>\n",
       "      <td>331</td>\n",
       "      <td>N</td>\n",
       "      <td>E</td>\n",
       "      <td>0.033660</td>\n",
       "      <td>WuG</td>\n",
       "      <td>2021_Starr_Vir</td>\n",
       "      <td>Bloom_JD</td>\n",
       "    </tr>\n",
       "    <tr>\n",
       "      <th>1162484</th>\n",
       "      <td>S309</td>\n",
       "      <td>antibody</td>\n",
       "      <td>331</td>\n",
       "      <td>N</td>\n",
       "      <td>F</td>\n",
       "      <td>0.044870</td>\n",
       "      <td>WuG</td>\n",
       "      <td>2021_Starr_Vir</td>\n",
       "      <td>Bloom_JD</td>\n",
       "    </tr>\n",
       "    <tr>\n",
       "      <th>1162485</th>\n",
       "      <td>S309</td>\n",
       "      <td>antibody</td>\n",
       "      <td>331</td>\n",
       "      <td>N</td>\n",
       "      <td>G</td>\n",
       "      <td>0.035290</td>\n",
       "      <td>WuG</td>\n",
       "      <td>2021_Starr_Vir</td>\n",
       "      <td>Bloom_JD</td>\n",
       "    </tr>\n",
       "    <tr>\n",
       "      <th>...</th>\n",
       "      <td>...</td>\n",
       "      <td>...</td>\n",
       "      <td>...</td>\n",
       "      <td>...</td>\n",
       "      <td>...</td>\n",
       "      <td>...</td>\n",
       "      <td>...</td>\n",
       "      <td>...</td>\n",
       "      <td>...</td>\n",
       "    </tr>\n",
       "    <tr>\n",
       "      <th>1185876</th>\n",
       "      <td>S2X227</td>\n",
       "      <td>antibody</td>\n",
       "      <td>531</td>\n",
       "      <td>T</td>\n",
       "      <td>R</td>\n",
       "      <td>0.001546</td>\n",
       "      <td>WuG</td>\n",
       "      <td>2021_Starr_Vir</td>\n",
       "      <td>Bloom_JD</td>\n",
       "    </tr>\n",
       "    <tr>\n",
       "      <th>1185877</th>\n",
       "      <td>S2X227</td>\n",
       "      <td>antibody</td>\n",
       "      <td>531</td>\n",
       "      <td>T</td>\n",
       "      <td>S</td>\n",
       "      <td>0.001412</td>\n",
       "      <td>WuG</td>\n",
       "      <td>2021_Starr_Vir</td>\n",
       "      <td>Bloom_JD</td>\n",
       "    </tr>\n",
       "    <tr>\n",
       "      <th>1185878</th>\n",
       "      <td>S2X227</td>\n",
       "      <td>antibody</td>\n",
       "      <td>531</td>\n",
       "      <td>T</td>\n",
       "      <td>V</td>\n",
       "      <td>0.001452</td>\n",
       "      <td>WuG</td>\n",
       "      <td>2021_Starr_Vir</td>\n",
       "      <td>Bloom_JD</td>\n",
       "    </tr>\n",
       "    <tr>\n",
       "      <th>1185879</th>\n",
       "      <td>S2X227</td>\n",
       "      <td>antibody</td>\n",
       "      <td>531</td>\n",
       "      <td>T</td>\n",
       "      <td>W</td>\n",
       "      <td>0.001904</td>\n",
       "      <td>WuG</td>\n",
       "      <td>2021_Starr_Vir</td>\n",
       "      <td>Bloom_JD</td>\n",
       "    </tr>\n",
       "    <tr>\n",
       "      <th>1185880</th>\n",
       "      <td>S2X227</td>\n",
       "      <td>antibody</td>\n",
       "      <td>531</td>\n",
       "      <td>T</td>\n",
       "      <td>Y</td>\n",
       "      <td>0.001414</td>\n",
       "      <td>WuG</td>\n",
       "      <td>2021_Starr_Vir</td>\n",
       "      <td>Bloom_JD</td>\n",
       "    </tr>\n",
       "  </tbody>\n",
       "</table>\n",
       "<p>23400 rows × 9 columns</p>\n",
       "</div>"
      ],
      "text/plain": [
       "        condition condition_type  site wildtype mutation  mut_escape variant  \\\n",
       "1162481      S309       antibody   331        N        A    0.047100     WuG   \n",
       "1162482      S309       antibody   331        N        D    0.088820     WuG   \n",
       "1162483      S309       antibody   331        N        E    0.033660     WuG   \n",
       "1162484      S309       antibody   331        N        F    0.044870     WuG   \n",
       "1162485      S309       antibody   331        N        G    0.035290     WuG   \n",
       "...           ...            ...   ...      ...      ...         ...     ...   \n",
       "1185876    S2X227       antibody   531        T        R    0.001546     WuG   \n",
       "1185877    S2X227       antibody   531        T        S    0.001412     WuG   \n",
       "1185878    S2X227       antibody   531        T        V    0.001452     WuG   \n",
       "1185879    S2X227       antibody   531        T        W    0.001904     WuG   \n",
       "1185880    S2X227       antibody   531        T        Y    0.001414     WuG   \n",
       "\n",
       "                  study       lab  \n",
       "1162481  2021_Starr_Vir  Bloom_JD  \n",
       "1162482  2021_Starr_Vir  Bloom_JD  \n",
       "1162483  2021_Starr_Vir  Bloom_JD  \n",
       "1162484  2021_Starr_Vir  Bloom_JD  \n",
       "1162485  2021_Starr_Vir  Bloom_JD  \n",
       "...                 ...       ...  \n",
       "1185876  2021_Starr_Vir  Bloom_JD  \n",
       "1185877  2021_Starr_Vir  Bloom_JD  \n",
       "1185878  2021_Starr_Vir  Bloom_JD  \n",
       "1185879  2021_Starr_Vir  Bloom_JD  \n",
       "1185880  2021_Starr_Vir  Bloom_JD  \n",
       "\n",
       "[23400 rows x 9 columns]"
      ]
     },
     "execution_count": 65,
     "metadata": {},
     "output_type": "execute_result"
    }
   ],
   "source": [
    "# 2021_Starr_Vir\n",
    "# Various antibodies\n",
    "dms_all[dms_all['study']=='2021_Starr_Vir']"
   ]
  },
  {
   "cell_type": "code",
   "execution_count": null,
   "id": "6a2567fb-55ad-4bd0-8e45-dc36d65380ff",
   "metadata": {},
   "outputs": [],
   "source": [
    "# Everything else seems to be antibodies"
   ]
  },
  {
   "cell_type": "code",
   "execution_count": 81,
   "id": "95d5315a-48a5-4f78-b550-95032c560a5c",
   "metadata": {},
   "outputs": [],
   "source": [
    "# We can add in data for \n",
    "# 1. 2023_Dadonaite_delta_BA1_5mAb_2sera and \n",
    "# 2. 2022_Greaney_WuG_Delta_Beta_sera_mAbs"
   ]
  },
  {
   "cell_type": "code",
   "execution_count": null,
   "id": "f29cbeb6-936b-454f-b38a-372d523fe3f3",
   "metadata": {},
   "outputs": [],
   "source": [
    "code = pd.DataFrame()"
   ]
  },
  {
   "cell_type": "code",
   "execution_count": 122,
   "id": "1e686222-5c71-46d4-97e7-68ae3409b371",
   "metadata": {},
   "outputs": [],
   "source": [
    "# 2023_Dadonaite_delta_BA1_5mAb_2sera\n",
    "# supp = pd.read_csv('2023_Dadonaite_delta_BA1_5mAb_2sera_supp_table.csv')\n",
    "# supp['Most recent variant'] = supp['Source'].apply(lambda x: 'WT' if 'WT' in x else 'BA.1' if 'BA.1' in x else None)\n",
    "# supp = supp[['Antibody ID', 'Most recent variant']].rename(columns={'Antibody ID':'Condition'})\n",
    "# code = pd.concat([code, supp])\n",
    "# supp"
   ]
  },
  {
   "cell_type": "code",
   "execution_count": 10,
   "id": "aa18ba8a-5982-4a5b-aa25-505ee1b89c7f",
   "metadata": {},
   "outputs": [
    {
     "data": {
      "text/html": [
       "<div>\n",
       "<style scoped>\n",
       "    .dataframe tbody tr th:only-of-type {\n",
       "        vertical-align: middle;\n",
       "    }\n",
       "\n",
       "    .dataframe tbody tr th {\n",
       "        vertical-align: top;\n",
       "    }\n",
       "\n",
       "    .dataframe thead th {\n",
       "        text-align: right;\n",
       "    }\n",
       "</style>\n",
       "<table border=\"1\" class=\"dataframe\">\n",
       "  <thead>\n",
       "    <tr style=\"text-align: right;\">\n",
       "      <th></th>\n",
       "      <th>Condition</th>\n",
       "      <th>Most recent variant</th>\n",
       "    </tr>\n",
       "  </thead>\n",
       "  <tbody>\n",
       "    <tr>\n",
       "      <th>0</th>\n",
       "      <td>BD30-196</td>\n",
       "      <td>WT</td>\n",
       "    </tr>\n",
       "    <tr>\n",
       "      <th>1</th>\n",
       "      <td>BD30-218</td>\n",
       "      <td>WT</td>\n",
       "    </tr>\n",
       "    <tr>\n",
       "      <th>2</th>\n",
       "      <td>BD30-236</td>\n",
       "      <td>WT</td>\n",
       "    </tr>\n",
       "    <tr>\n",
       "      <th>3</th>\n",
       "      <td>BD30-254</td>\n",
       "      <td>WT</td>\n",
       "    </tr>\n",
       "    <tr>\n",
       "      <th>4</th>\n",
       "      <td>BD30-255</td>\n",
       "      <td>WT</td>\n",
       "    </tr>\n",
       "    <tr>\n",
       "      <th>...</th>\n",
       "      <td>...</td>\n",
       "      <td>...</td>\n",
       "    </tr>\n",
       "    <tr>\n",
       "      <th>1635</th>\n",
       "      <td>XGv-416</td>\n",
       "      <td>WT</td>\n",
       "    </tr>\n",
       "    <tr>\n",
       "      <th>1636</th>\n",
       "      <td>XGv-418</td>\n",
       "      <td>WT</td>\n",
       "    </tr>\n",
       "    <tr>\n",
       "      <th>1637</th>\n",
       "      <td>XGv-420</td>\n",
       "      <td>WT</td>\n",
       "    </tr>\n",
       "    <tr>\n",
       "      <th>1638</th>\n",
       "      <td>XGv-421</td>\n",
       "      <td>WT</td>\n",
       "    </tr>\n",
       "    <tr>\n",
       "      <th>1639</th>\n",
       "      <td>XGv-422</td>\n",
       "      <td>WT</td>\n",
       "    </tr>\n",
       "  </tbody>\n",
       "</table>\n",
       "<p>1640 rows × 2 columns</p>\n",
       "</div>"
      ],
      "text/plain": [
       "     Condition Most recent variant\n",
       "0     BD30-196                  WT\n",
       "1     BD30-218                  WT\n",
       "2     BD30-236                  WT\n",
       "3     BD30-254                  WT\n",
       "4     BD30-255                  WT\n",
       "...        ...                 ...\n",
       "1635   XGv-416                  WT\n",
       "1636   XGv-418                  WT\n",
       "1637   XGv-420                  WT\n",
       "1638   XGv-421                  WT\n",
       "1639   XGv-422                  WT\n",
       "\n",
       "[1640 rows x 2 columns]"
      ]
     },
     "execution_count": 10,
     "metadata": {},
     "output_type": "execute_result"
    }
   ],
   "source": [
    "code"
   ]
  },
  {
   "cell_type": "code",
   "execution_count": null,
   "id": "279c56b6-92ba-48dd-a381-e79e84207ac8",
   "metadata": {},
   "outputs": [],
   "source": []
  }
 ],
 "metadata": {
  "kernelspec": {
   "display_name": "Python 3 (ipykernel)",
   "language": "python",
   "name": "python3"
  },
  "language_info": {
   "codemirror_mode": {
    "name": "ipython",
    "version": 3
   },
   "file_extension": ".py",
   "mimetype": "text/x-python",
   "name": "python",
   "nbconvert_exporter": "python",
   "pygments_lexer": "ipython3",
   "version": "3.10.13"
  }
 },
 "nbformat": 4,
 "nbformat_minor": 5
}
