{
 "cells": [
  {
   "cell_type": "code",
   "execution_count": 1,
   "id": "2a0dd504-bdb4-402c-9936-7bd5a38a2d1f",
   "metadata": {},
   "outputs": [],
   "source": [
    "import pandas as pd\n",
    "import numpy as np\n",
    "import torch"
   ]
  },
  {
   "cell_type": "code",
   "execution_count": 2,
   "id": "cafeddd2-2963-46a9-babe-f14106287816",
   "metadata": {},
   "outputs": [],
   "source": [
    "varns = sorted(['B.1', 'Omicron BA.4/5', 'BA.2.12.1', 'Delta', 'Beta', 'Alpha', 'BA.1'])"
   ]
  },
  {
   "cell_type": "code",
   "execution_count": 14,
   "id": "1a45d477-e6bd-4b03-8ed0-e0f0065c99b4",
   "metadata": {},
   "outputs": [],
   "source": [
    "# Read in our escape data\n",
    "date = '2025-06-26'\n",
    "sb = .6\n",
    "\n",
    "escape_results = torch.load(f'model_covdb/results.{date}.sb{sb}.pt')\n",
    "escape_traces = escape_results['traces']\n",
    "escape_data = escape_results['data']\n",
    "\n",
    "pool_agnostic_effects = pd.DataFrame({'Mutation':escape_data['features'], 'Immune-Agnostic Effect':escape_traces['β'].mean(dim=0)})\n",
    "\n",
    "\n",
    "\n",
    "pool_specific_effects = pd.DataFrame(columns=escape_data['features'], index=escape_data['pools_map'], data=escape_traces['β_ω'].mean(dim=0)\n",
    "                                    ).reset_index(\n",
    "                                    ).melt(id_vars='index', value_vars=None, var_name='Mutation', value_name='Immune-Specific Effect'\n",
    "                                    ).rename(columns={'index':'Pool'})\n",
    "# Subset ranges to where we have ample data on each mutation\n",
    "min_n = 1  # mutation must have been seen at least once\n",
    "subset = []\n",
    "for _, row in pool_specific_effects.iterrows():\n",
    "    pool_idx = (escape_data['pools_map']==row['Pool']).nonzero()[0][0]\n",
    "    feat_idx = (np.array(escape_data['features'])==row['Mutation']).nonzero()[0][0]\n",
    "    num_obs = escape_data['X'][escape_data['pools']==pool_idx, feat_idx].sum().item()\n",
    "    row = dict(row)\n",
    "    row['N'] = int(num_obs)\n",
    "    if num_obs >= min_n:\n",
    "        subset.append(row)\n",
    "subset = pd.DataFrame(subset)\n",
    "pool_specific_effects = pd.merge(pool_specific_effects, subset[['Mutation', 'Pool']], on=['Mutation', 'Pool'], how='inner')\n",
    "pool_specific_effects_piv = pool_specific_effects.pivot(columns='Pool', \n",
    "                                                        index='Mutation', \n",
    "                                                        values='Immune-Specific Effect'\n",
    "                                               ).rename(columns={c: f'{c}-elicited escape' for c in varns})\n",
    "\n"
   ]
  },
  {
   "cell_type": "code",
   "execution_count": 16,
   "id": "e2db4d58-edaa-421d-bc80-4dad6dc16d6a",
   "metadata": {},
   "outputs": [],
   "source": [
    "pd.merge(pool_agnostic_effects, pool_specific_effects_piv.reset_index()).to_csv('supplemental_files/S1.csv', index=False)"
   ]
  },
  {
   "cell_type": "code",
   "execution_count": null,
   "id": "0014d0f7-bd3c-442b-8239-a0085d5a0608",
   "metadata": {},
   "outputs": [],
   "source": []
  }
 ],
 "metadata": {
  "kernelspec": {
   "display_name": "Python 3 (ipykernel)",
   "language": "python",
   "name": "python3"
  },
  "language_info": {
   "codemirror_mode": {
    "name": "ipython",
    "version": 3
   },
   "file_extension": ".py",
   "mimetype": "text/x-python",
   "name": "python",
   "nbconvert_exporter": "python",
   "pygments_lexer": "ipython3",
   "version": "3.10.13"
  }
 },
 "nbformat": 4,
 "nbformat_minor": 5
}
